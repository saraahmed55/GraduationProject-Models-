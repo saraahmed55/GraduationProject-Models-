{
 "cells": [
  {
   "cell_type": "code",
   "execution_count": 1,
   "id": "d0e3bab3",
   "metadata": {},
   "outputs": [],
   "source": [
    "import io\n",
    "import os\n",
    "from google.cloud import vision\n",
    "from google.cloud.vision_v1 import types"
   ]
  },
  {
   "cell_type": "code",
   "execution_count": 2,
   "id": "c486a1a2",
   "metadata": {},
   "outputs": [],
   "source": [
    "def detect(image_path):\n",
    "    \n",
    "    os.environ['GOOGLE_APPLICATION_CREDENTIALS'] = 'OCR/sightmateocr-478aeff2741b.json'\n",
    "    \n",
    "    client = vision.ImageAnnotatorClient()\n",
    "\n",
    "    with io.open(image_path, 'rb') as image_file:\n",
    "        content = image_file.read()\n",
    "    \n",
    "    image = types.Image(content=content)\n",
    "\n",
    "    response = client.text_detection(image=image)\n",
    "    \n",
    "    text = response.text_annotations\n",
    "    \n",
    "    sentence = text[0].description\n",
    "    \n",
    "    if response.error.message:\n",
    "        raise Exception(response.error.message)\n",
    "    else:\n",
    "        return sentence.replace(\"\\n\", \" \")"
   ]
  },
  {
   "cell_type": "code",
   "execution_count": 3,
   "id": "28050fdb",
   "metadata": {},
   "outputs": [
    {
     "data": {
      "text/plain": [
       "'حفر بئر زمزم ووقعة الفيل وخلاصة الأول: أنه أمر في المنام يحفر زمزم ووصف له موضعها، فقام بحفر، فوجد فيه الأشياء التي دفنها الجراهمة حين لجأوا إلى الجلاء، أي السيوف والدروع والغزالين من الذهب، فضرب الأسياف بابا للكعبة، وضرب في الباب الغزالين، وأقام سقاية رمزم للحجاج ولما بدت زمزم نازعت قريش عبد المطلب ، وقالوا له: أشركنا ، قال : ما أنا بفاعل ، هذا أمر خصصت به، فلم يتركوه حتى خرجوا به للمحاكمة إلى كاهنة سعد، ولم يرجعوا حتى أراهم الله في الطريق ما دلهم على تخصيص عبد المطلب بزمزم، وحينئذ نذر عبد المطلب لتن آناء الله عشرة أبناء، وبلغوا أن يمنعوه ليتحون أحدهم عند الكعبة وخلاصة الثاني أن أبرهة الصباح الحبشي، النائب العام عن النجاشي على اليمن، لما رأى العرب يحجون الكعبة بنى كنيسة كبيرة بصنعاء، وأراد أن يعرف حج العرب إليها، وسمع ذلك رجل من بني كنانة، فدخلها ليلا فلطخ قبلتهـا بالعذرة، ولما علم أبرهة بذلك ثار غيظه، وسار بجيش عرمرم - عدده ستون ألف جندي - إلى الكعبة ليهدمها، واختار لنفسه فيلا من أكبر الفيلة، وكان في الجيش (9) فيلة أو (13) فيلا، وواصل سيره حتى بلغ المغمس، وهناك عبا جيشه، وهيا فيلـه، وتهيأ لدخول مكة ، فلما كان في وادي محـر بين المزدلفة ومتى برك الفيل، ولم يقم ليقدم إلى الكعبة، وكانوا كلما وجهوه إلى الجنوب أو الشمال أو الشرق يقسوم يهرول، وإذا صرفوه إلى الكعبة برك، فبينا هم كذلك إذ أرسل الله عليهم طيرا أبابيل، ترميهم بحجارة من سجيل، فجعلهم كعصف مأكول، وكانت الطير أمثال الخطاطيف والبلسان، مع كل طائر ثلاثة أحجار، حجر في منقاره، وحجران في رجليه أمثال الحمص، لا تصبب منهم أحـدا إلا صار تنقطع أعضاؤه، وهلك، وليس كلهم أصابت، وخرجوا هاربين يموج بعضهم في بعض فتساقطوا بكل طريق، وهلكوا على كل منهل، وأما أبرهة فبعث الله عليه داء تساقطت بـه أنامله، ولم يصل إلى صنعاء إلا وهو مثل الفرح، وانصدع صدره عن قلبه ثم هلك . وأما قريش فكانوا قد تفرقوا في الشعاب وتحرروا في رءوس الجبال، خوفا على أنفسهم من معرة الجيش، فلما نزل بالجيش ما نزل رجعوا إلى بيوتهم أمين (T)'"
      ]
     },
     "execution_count": 3,
     "metadata": {},
     "output_type": "execute_result"
    }
   ],
   "source": [
    "detect('WhatsApp Image 2023-05-20 at 6.43.57 PM.jpeg')"
   ]
  },
  {
   "cell_type": "code",
   "execution_count": 4,
   "id": "45a95b05",
   "metadata": {},
   "outputs": [
    {
     "data": {
      "text/plain": [
       "'Deloitte. Vietcombank 2022 Tax & Customs Update Seminar 14:00 - 16:00 Friday, 28th October, 2022 10th Floor, Vietcombank Long An Branch, No.2A Pham Van Ngu Street, Quarter 5, Ben Luc Town, Ben Luc District, Long An Province Deloitte Vietnam and Joint Stock Commercial Bank For Foreign Trade of Vietnam (Vietcombank) sincerely invite Chinese-speaking companies in Long An province to join a seminar on \"2022 Vietnam Tax & Customs Update\", in which we will update you the practical and useful information on Tax and Customs policy and regulations as well as Vietcombank\\'s special trade finance products to help you proactively managing tax risks, successfully operating business in Vietnam\\'s rapidly changing business environment. Language: Mandarin Chinese Fee: Complimentary ticket Time 13:30 - 14:00 14:00 - 14:05 14:05 - 14:30 14:30 - 14:40 14:40 - 15:10 15:10 - 15:30 15:30-16:00 Topics Check-in Opening 2022 Tax and Customs Policy Outlook Vietnam Economic and Tax collection 2022 Tax regulations highlights Tea break Vietcombank\\'s special products and services for foreign companies 2022 Customs regulations highlights Q&A Register here Or scan the QR code For inquiry, please contact: Trinh Họ Phone: +84 28 710 14058 Email: trinhnho@deloitte.com Keynote speaker Vietcombank delegation Mr. Brian Wong Director, Chinese Services Group, Deloitte Vietnam Mr. Phung Duc Huy Relationship Manager, FDI Chinese Desk, Vietcombank Mr. Brian Wong Director, Chinese Services Group, Deloitte Vietnam Deloitte Vietnam & Vietcombank Disclaimer No representations, warranties or undertakings (express or implied) are given as to the accuracy or completeness of the information in this communication, and none of DTTL, its member firms, related entities, employees or agents shall be liable or responsible for any loss or damage whatsoever arising directly or indirectly in connection with any person relying on this communication. DTTL and each of its member firms, and their related entities, are legally separate and independent entities. Ⓒ2022 Deloitte Vietnam Tax Advisory Company Limited'"
      ]
     },
     "execution_count": 4,
     "metadata": {},
     "output_type": "execute_result"
    }
   ],
   "source": [
    "detect('WhatsApp Image 2023-05-20 at 7.50.24 PM (1).jpeg')"
   ]
  },
  {
   "cell_type": "code",
   "execution_count": null,
   "id": "c216e8f0",
   "metadata": {},
   "outputs": [],
   "source": []
  }
 ],
 "metadata": {
  "kernelspec": {
   "display_name": "Python 3 (ipykernel)",
   "language": "python",
   "name": "python3"
  },
  "language_info": {
   "codemirror_mode": {
    "name": "ipython",
    "version": 3
   },
   "file_extension": ".py",
   "mimetype": "text/x-python",
   "name": "python",
   "nbconvert_exporter": "python",
   "pygments_lexer": "ipython3",
   "version": "3.9.13"
  }
 },
 "nbformat": 4,
 "nbformat_minor": 5
}
