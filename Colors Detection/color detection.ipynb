{
 "cells": [
  {
   "cell_type": "code",
   "execution_count": 2,
   "id": "8c2482e2",
   "metadata": {},
   "outputs": [],
   "source": [
    "import pandas as pd\n",
    "# Getting data and processing\n",
    "dataset = pd.read_csv('final_data.csv')\n",
    "dataset = pd.get_dummies(dataset, columns=['label'])\n",
    "dataset = dataset[[\n",
    "    'red', \n",
    "    'green', \n",
    "    'blue', \n",
    "    'label_Red', \n",
    "    'label_Green', \n",
    "    'label_Blue', \n",
    "    'label_Yellow', \n",
    "    'label_Orange', \n",
    "    'label_Pink', \n",
    "    'label_Purple', \n",
    "    'label_Brown', \n",
    "    'label_Grey', \n",
    "    'label_Black', \n",
    "    'label_White'\n",
    "]]"
   ]
  },
  {
   "cell_type": "code",
   "execution_count": 3,
   "id": "ebc1be2d",
   "metadata": {},
   "outputs": [],
   "source": [
    "# Split the data into train and test\n",
    "train_dataset = dataset.sample(frac=0.8, random_state=9)\n",
    "test_dataset = dataset.drop(train_dataset.index)"
   ]
  },
  {
   "cell_type": "code",
   "execution_count": 4,
   "id": "f7e3925b",
   "metadata": {},
   "outputs": [],
   "source": [
    "#Split features: `red`, `green`, `blue` and labels\n",
    "train_labels = pd.DataFrame([train_dataset.pop(x) for x in [\n",
    "    'label_Red', \n",
    "    'label_Green', \n",
    "    'label_Blue', \n",
    "    'label_Yellow', \n",
    "    'label_Orange', \n",
    "    'label_Pink', \n",
    "    'label_Purple', \n",
    "    'label_Brown', \n",
    "    'label_Grey', \n",
    "    'label_Black', \n",
    "    'label_White'\n",
    "]]).T\n",
    "\n",
    "test_labels = pd.DataFrame([test_dataset.pop(x) for x in [\n",
    "    'label_Red', \n",
    "    'label_Green', \n",
    "    'label_Blue', \n",
    "    'label_Yellow', \n",
    "    'label_Orange', \n",
    "    'label_Pink', \n",
    "    'label_Purple', \n",
    "    'label_Brown', \n",
    "    'label_Grey', \n",
    "    'label_Black', \n",
    "    'label_White'\n",
    "]]).T\n"
   ]
  },
  {
   "cell_type": "code",
   "execution_count": 5,
   "id": "23a410bb",
   "metadata": {},
   "outputs": [
    {
     "name": "stdout",
     "output_type": "stream",
     "text": [
      "Model: \"sequential\"\n",
      "_________________________________________________________________\n",
      "Layer (type)                 Output Shape              Param #   \n",
      "=================================================================\n",
      "dense (Dense)                (None, 3)                 12        \n",
      "_________________________________________________________________\n",
      "dense_1 (Dense)              (None, 32)                128       \n",
      "_________________________________________________________________\n",
      "dense_2 (Dense)              (None, 11)                363       \n",
      "=================================================================\n",
      "Total params: 503\n",
      "Trainable params: 503\n",
      "Non-trainable params: 0\n",
      "_________________________________________________________________\n"
     ]
    }
   ],
   "source": [
    "import tensorflow as tf\n",
    "from tensorflow import keras\n",
    "from tensorflow.keras import layers\n",
    "\n",
    "# Model\n",
    "model = keras.Sequential([\n",
    "    layers.Dense(3, activation='relu', input_shape=[len(train_dataset.keys())]),\n",
    "    layers.Dense(32, activation='relu'),\n",
    "    layers.Dense(11)\n",
    "  ])\n",
    "\n",
    "optimizer = keras.optimizers.Adam(learning_rate=0.001)\n",
    "loss_function = tf.keras.losses.CategoricalCrossentropy(from_logits=True)\n",
    "model.compile(loss=loss_function, optimizer=optimizer, metrics=['accuracy'])\n",
    "model.summary()"
   ]
  },
  {
   "cell_type": "code",
   "execution_count": 6,
   "id": "cc498e1d",
   "metadata": {},
   "outputs": [
    {
     "name": "stdout",
     "output_type": "stream",
     "text": [
      "Epoch 00509: early stopping\n"
     ]
    }
   ],
   "source": [
    "from tensorflow.keras.callbacks import EarlyStopping\n",
    "# Train the model\n",
    "early_stop = EarlyStopping(monitor='val_loss', mode='min', verbose=1, min_delta=0.01, patience=100)\n",
    "history = model.fit(x=train_dataset, y=train_labels, \n",
    "                    validation_split=0.2, \n",
    "                    epochs=1000, \n",
    "                    batch_size=32, \n",
    "                    verbose=0,\n",
    "                    callbacks=[early_stop], \n",
    "                    shuffle=True)\n",
    "\n",
    "model.save('model.h5')"
   ]
  },
  {
   "cell_type": "code",
   "execution_count": 7,
   "id": "4fcc0825",
   "metadata": {},
   "outputs": [
    {
     "name": "stdout",
     "output_type": "stream",
     "text": [
      "127/127 [==============================] - 0s 3ms/step - loss: 0.3156 - accuracy: 0.8728\n"
     ]
    },
    {
     "data": {
      "text/plain": [
       "[0.3155709207057953, 0.8728352189064026]"
      ]
     },
     "execution_count": 7,
     "metadata": {},
     "output_type": "execute_result"
    }
   ],
   "source": [
    "model.evaluate(x=train_dataset, y=train_labels)"
   ]
  },
  {
   "cell_type": "code",
   "execution_count": 8,
   "id": "edb9e8e9",
   "metadata": {},
   "outputs": [
    {
     "name": "stdout",
     "output_type": "stream",
     "text": [
      "32/32 [==============================] - 0s 1ms/step - loss: 0.3315 - accuracy: 0.8802\n"
     ]
    },
    {
     "data": {
      "text/plain": [
       "[0.33153748512268066, 0.8801980018615723]"
      ]
     },
     "execution_count": 8,
     "metadata": {},
     "output_type": "execute_result"
    }
   ],
   "source": [
    "model.evaluate(x=test_dataset, y=test_labels)"
   ]
  }
 ],
 "metadata": {
  "kernelspec": {
   "display_name": "Python 3.8 (gp)",
   "language": "python",
   "name": "gp"
  },
  "language_info": {
   "codemirror_mode": {
    "name": "ipython",
    "version": 3
   },
   "file_extension": ".py",
   "mimetype": "text/x-python",
   "name": "python",
   "nbconvert_exporter": "python",
   "pygments_lexer": "ipython3",
   "version": "3.9.13"
  }
 },
 "nbformat": 4,
 "nbformat_minor": 5
}
