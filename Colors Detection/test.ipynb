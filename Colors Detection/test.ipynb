{
 "cells": [
  {
   "cell_type": "code",
   "execution_count": 1,
   "id": "9bb41f4c",
   "metadata": {},
   "outputs": [],
   "source": [
    "import tensorflow as tf\n",
    "import keras\n",
    "model = tf.keras.models.load_model(\"model.h5\")"
   ]
  },
  {
   "cell_type": "code",
   "execution_count": 2,
   "id": "560717e2",
   "metadata": {},
   "outputs": [
    {
     "name": "stdout",
     "output_type": "stream",
     "text": [
      "['Black', 'Blue']\n"
     ]
    }
   ],
   "source": [
    "# Prediction\n",
    "import numpy as np\n",
    "samples_to_predict = [[33,44,55], [12,33,67]]\n",
    "\n",
    "# Convert into Numpy array\n",
    "samples_to_predict = np.array(samples_to_predict)\n",
    "\n",
    "# Generate predictions for samples\n",
    "predictions = model.predict(samples_to_predict)\n",
    "categories = ['Red', 'Green', 'Blue', 'Yellow', 'Orange', 'Pink', 'Purple', 'Brown', 'Grey', 'Black', 'White']\n",
    "print([categories[x.argmax(axis=0)] for x in predictions])\n"
   ]
  },
  {
   "cell_type": "code",
   "execution_count": 4,
   "id": "049aa297",
   "metadata": {},
   "outputs": [
    {
     "name": "stdout",
     "output_type": "stream",
     "text": [
      "['Grey']\n"
     ]
    }
   ],
   "source": [
    "# Extract Image Dominant Color and Classify it\n",
    "from colorthief import ColorThief\n",
    "color_thief = ColorThief('IMG_1808.JPG')\n",
    "# get the dominant color\n",
    "dominant_color = color_thief.get_color(quality=1)\n",
    "\n",
    "predictions = model.predict(np.array([list(dominant_color)]))\n",
    "print([categories[x.argmax(axis=0)] for x in predictions])"
   ]
  },
  {
   "cell_type": "code",
   "execution_count": null,
   "id": "8ba5f409",
   "metadata": {},
   "outputs": [],
   "source": []
  }
 ],
 "metadata": {
  "kernelspec": {
   "display_name": "Python 3.8 (gp)",
   "language": "python",
   "name": "gp"
  },
  "language_info": {
   "codemirror_mode": {
    "name": "ipython",
    "version": 3
   },
   "file_extension": ".py",
   "mimetype": "text/x-python",
   "name": "python",
   "nbconvert_exporter": "python",
   "pygments_lexer": "ipython3",
   "version": "3.9.13"
  }
 },
 "nbformat": 4,
 "nbformat_minor": 5
}
