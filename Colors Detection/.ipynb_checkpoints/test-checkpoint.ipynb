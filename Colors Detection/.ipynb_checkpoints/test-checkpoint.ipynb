{
 "cells": [
  {
   "cell_type": "code",
   "execution_count": 2,
   "id": "9bb41f4c",
   "metadata": {},
   "outputs": [],
   "source": [
    "import tensorflow as tf\n",
    "import keras\n",
    "model = tf.keras.models.load_model(\"model.h5\")"
   ]
  },
  {
   "cell_type": "code",
   "execution_count": 3,
   "id": "560717e2",
   "metadata": {},
   "outputs": [
    {
     "name": "stdout",
     "output_type": "stream",
     "text": [
      "['Black', 'Blue']\n"
     ]
    }
   ],
   "source": [
    "# Prediction\n",
    "import numpy as np\n",
    "samples_to_predict = [[33,44,55], [12,33,67]]\n",
    "\n",
    "# Convert into Numpy array\n",
    "samples_to_predict = np.array(samples_to_predict)\n",
    "\n",
    "# Generate predictions for samples\n",
    "predictions = model.predict(samples_to_predict)\n",
    "categories = ['Red', 'Green', 'Blue', 'Yellow', 'Orange', 'Pink', 'Purple', 'Brown', 'Grey', 'Black', 'White']\n",
    "print([categories[x.argmax(axis=0)] for x in predictions])\n"
   ]
  },
  {
   "cell_type": "code",
   "execution_count": 4,
   "id": "049aa297",
   "metadata": {},
   "outputs": [],
   "source": [
    "# Extract Image Dominant Color and Classify it\n",
    "from colorthief import ColorThief\n",
    "def predict_color(img):\n",
    "    model = tf.keras.models.load_model(\"model.h5\")\n",
    "    color_thief = ColorThief(img)\n",
    "    dominant_color = color_thief.get_palette(color_count=5)\n",
    "    categories = ['Red', 'Green', 'Blue', 'Yellow', 'Orange', 'Pink', 'Purple', 'Brown', 'Grey', 'Black', 'White']\n",
    "    predictions = model.predict(np.array(dominant_color))\n",
    "    predictions_set = set([categories[x.argmax(axis=0)] for x in predictions])\n",
    "    if len(predictions_set)>1:\n",
    "        return \"mixed\"\n",
    "    else:\n",
    "        return next(iter(predictions_set))"
   ]
  },
  {
   "cell_type": "code",
   "execution_count": null,
   "id": "8ba5f409",
   "metadata": {},
   "outputs": [],
   "source": []
  }
 ],
 "metadata": {
  "kernelspec": {
   "display_name": "Python 3.8 (gp)",
   "language": "python",
   "name": "gp"
  },
  "language_info": {
   "codemirror_mode": {
    "name": "ipython",
    "version": 3
   },
   "file_extension": ".py",
   "mimetype": "text/x-python",
   "name": "python",
   "nbconvert_exporter": "python",
   "pygments_lexer": "ipython3",
   "version": "3.9.13"
  }
 },
 "nbformat": 4,
 "nbformat_minor": 5
}
