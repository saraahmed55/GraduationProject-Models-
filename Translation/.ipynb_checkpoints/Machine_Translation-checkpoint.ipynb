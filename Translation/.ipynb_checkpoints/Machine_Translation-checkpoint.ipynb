{
 "cells": [
  {
   "cell_type": "code",
   "execution_count": 1,
   "metadata": {
    "colab": {
     "base_uri": "https://localhost:8080/"
    },
    "executionInfo": {
     "elapsed": 12931,
     "status": "ok",
     "timestamp": 1670445490514,
     "user": {
      "displayName": "Abderhman Saeed",
      "userId": "17398184580018437280"
     },
     "user_tz": -120
    },
    "id": "nP5wyc5zw-n5",
    "outputId": "8df67811-3c91-481d-a408-66765ddce6cc"
   },
   "outputs": [
    {
     "name": "stdout",
     "output_type": "stream",
     "text": [
      "Looking in indexes: https://pypi.org/simple, https://us-python.pkg.dev/colab-wheels/public/simple/\n",
      "Collecting deep_translator\n",
      "  Downloading deep_translator-1.9.1-py3-none-any.whl (30 kB)\n",
      "Requirement already satisfied: requests<3.0.0,>=2.23.0 in /usr/local/lib/python3.8/dist-packages (from deep_translator) (2.23.0)\n",
      "Collecting beautifulsoup4<5.0.0,>=4.9.1\n",
      "  Downloading beautifulsoup4-4.11.1-py3-none-any.whl (128 kB)\n",
      "\u001b[K     |████████████████████████████████| 128 kB 27.9 MB/s \n",
      "\u001b[?25hCollecting soupsieve>1.2\n",
      "  Downloading soupsieve-2.3.2.post1-py3-none-any.whl (37 kB)\n",
      "Requirement already satisfied: certifi>=2017.4.17 in /usr/local/lib/python3.8/dist-packages (from requests<3.0.0,>=2.23.0->deep_translator) (2022.9.24)\n",
      "Requirement already satisfied: urllib3!=1.25.0,!=1.25.1,<1.26,>=1.21.1 in /usr/local/lib/python3.8/dist-packages (from requests<3.0.0,>=2.23.0->deep_translator) (1.24.3)\n",
      "Requirement already satisfied: idna<3,>=2.5 in /usr/local/lib/python3.8/dist-packages (from requests<3.0.0,>=2.23.0->deep_translator) (2.10)\n",
      "Requirement already satisfied: chardet<4,>=3.0.2 in /usr/local/lib/python3.8/dist-packages (from requests<3.0.0,>=2.23.0->deep_translator) (3.0.4)\n",
      "Installing collected packages: soupsieve, beautifulsoup4, deep-translator\n",
      "  Attempting uninstall: beautifulsoup4\n",
      "    Found existing installation: beautifulsoup4 4.6.3\n",
      "    Uninstalling beautifulsoup4-4.6.3:\n",
      "      Successfully uninstalled beautifulsoup4-4.6.3\n",
      "Successfully installed beautifulsoup4-4.11.1 deep-translator-1.9.1 soupsieve-2.3.2.post1\n"
     ]
    }
   ],
   "source": [
    "pip install -U deep_translator"
   ]
  },
  {
   "cell_type": "code",
   "execution_count": 2,
   "metadata": {
    "colab": {
     "base_uri": "https://localhost:8080/"
    },
    "executionInfo": {
     "elapsed": 7785,
     "status": "ok",
     "timestamp": 1670445498292,
     "user": {
      "displayName": "Abderhman Saeed",
      "userId": "17398184580018437280"
     },
     "user_tz": -120
    },
    "id": "fJA2QIBVxAvy",
    "outputId": "094e8744-122f-48a1-8b78-0af7abe88f0d"
   },
   "outputs": [
    {
     "name": "stderr",
     "output_type": "stream",
     "text": [
      "[nltk_data] Downloading package vader_lexicon to /root/nltk_data...\n"
     ]
    }
   ],
   "source": [
    "from deep_translator import GoogleTranslator\n",
    "import nltk\n",
    "nltk.download('vader_lexicon')\n",
    "from nltk.sentiment.vader import SentimentIntensityAnalyzer\n",
    "SIA = SentimentIntensityAnalyzer()"
   ]
  },
  {
   "cell_type": "code",
   "execution_count": 3,
   "metadata": {
    "executionInfo": {
     "elapsed": 14,
     "status": "ok",
     "timestamp": 1670445498293,
     "user": {
      "displayName": "Abderhman Saeed",
      "userId": "17398184580018437280"
     },
     "user_tz": -120
    },
    "id": "qz5hWLN_xA0p"
   },
   "outputs": [],
   "source": [
    "def Translate(src:str, tar:str, sequence): \n",
    "    return GoogleTranslator(source=src, target=tar).translate(sequence)"
   ]
  },
  {
   "cell_type": "code",
   "execution_count": 4,
   "metadata": {
    "colab": {
     "base_uri": "https://localhost:8080/",
     "height": 36
    },
    "executionInfo": {
     "elapsed": 13,
     "status": "ok",
     "timestamp": 1670445498293,
     "user": {
      "displayName": "Abderhman Saeed",
      "userId": "17398184580018437280"
     },
     "user_tz": -120
    },
    "id": "_kRtxjHVxA23",
    "outputId": "87809b30-1eb3-4b82-ab79-c81ba7791dc3"
   },
   "outputs": [
    {
     "data": {
      "application/vnd.google.colaboratory.intrinsic+json": {
       "type": "string"
      },
      "text/plain": [
       "'إذا قال شخص لا يعرف خلفيتك إنك تبدو متحدثًا أصليًا ، فهذا يعني أنه ربما لاحظ شيئًا في حديثك جعله يدرك أنك لست متحدثًا أصليًا. بعبارة أخرى ، لا يبدو أنك متحدث أصلي حقًا.'"
      ]
     },
     "execution_count": 4,
     "metadata": {},
     "output_type": "execute_result"
    }
   ],
   "source": [
    "Translate('en', 'ar', \"If someone who doesn't know your background says that you sound like a native speaker, it means they probably noticed something about your speaking that made them realize you weren't a native speaker. In other words, you don't really sound like a native speaker.\")"
   ]
  },
  {
   "cell_type": "code",
   "execution_count": 5,
   "metadata": {
    "executionInfo": {
     "elapsed": 11,
     "status": "ok",
     "timestamp": 1670445498294,
     "user": {
      "displayName": "Abderhman Saeed",
      "userId": "17398184580018437280"
     },
     "user_tz": -120
    },
    "id": "dJHQE0tJxA5b"
   },
   "outputs": [],
   "source": [
    "Values = list(SIA.polarity_scores('it`s a terrible restaurant').values())"
   ]
  }
 ],
 "metadata": {
  "colab": {
   "provenance": []
  },
  "kernelspec": {
   "display_name": "Python 3 (ipykernel)",
   "language": "python",
   "name": "python3"
  },
  "language_info": {
   "codemirror_mode": {
    "name": "ipython",
    "version": 3
   },
   "file_extension": ".py",
   "mimetype": "text/x-python",
   "name": "python",
   "nbconvert_exporter": "python",
   "pygments_lexer": "ipython3",
   "version": "3.9.13"
  }
 },
 "nbformat": 4,
 "nbformat_minor": 1
}
