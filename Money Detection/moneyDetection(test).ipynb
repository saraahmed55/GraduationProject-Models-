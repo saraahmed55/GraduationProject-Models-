{
  "nbformat": 4,
  "nbformat_minor": 0,
  "metadata": {
    "colab": {
      "provenance": []
    },
    "kernelspec": {
      "name": "python3",
      "display_name": "Python 3"
    },
    "language_info": {
      "name": "python"
    }
  },
  "cells": [
    {
      "cell_type": "code",
      "source": [
        "from google.colab import drive\n",
        "drive.mount('/content/drive',force_remount=True)"
      ],
      "metadata": {
        "colab": {
          "base_uri": "https://localhost:8080/"
        },
        "id": "ifX6FBFszRYR",
        "outputId": "2507d11e-80f3-4b79-bfbf-ea464be28e25"
      },
      "execution_count": 4,
      "outputs": [
        {
          "output_type": "stream",
          "name": "stdout",
          "text": [
            "Mounted at /content/drive\n"
          ]
        }
      ]
    },
    {
      "cell_type": "code",
      "source": [
        "import os\n",
        "import shutil\n",
        "import os\n",
        "import numpy as np\n",
        "import matplotlib.pyplot as plt\n",
        "\n",
        "import zipfile\n",
        "\n",
        "import tensorflow as tf\n",
        "#import tensorflow_hub as hub\n",
        "import math\n",
        "import itertools\n",
        "from sklearn.metrics import classification_report, confusion_matrix\n",
        "import shutil\n",
        "from keras.regularizers import l2\n"
      ],
      "metadata": {
        "id": "VDN8hNFPAJBr"
      },
      "execution_count": 6,
      "outputs": []
    },
    {
      "cell_type": "code",
      "source": [
        "os.chdir(\"/content\")\n",
        "\n",
        "# Create a ZipFile Object and load sample.zip in it\\\n",
        "from zipfile import ZipFile \n",
        "with ZipFile('/content/drive/My Drive/Egyptian_currency.zip', 'r') as zipObj:\n",
        "# Extract all the contents of zip file in current directory\n",
        "    zipObj.extractall()\n",
        "    \n",
        "shutil.move(\"/content/content/Egyptian_Currency\",\"/content/\")"
      ],
      "metadata": {
        "colab": {
          "base_uri": "https://localhost:8080/",
          "height": 38
        },
        "id": "k796g57hAD-W",
        "outputId": "bddbee67-4400-4f33-a656-f698da5f7e3f"
      },
      "execution_count": 13,
      "outputs": [
        {
          "output_type": "execute_result",
          "data": {
            "text/plain": [
              "'/content/Egyptian_Currency'"
            ],
            "application/vnd.google.colaboratory.intrinsic+json": {
              "type": "string"
            }
          },
          "metadata": {},
          "execution_count": 13
        }
      ]
    },
    {
      "cell_type": "code",
      "source": [
        "import tensorflow as tf\n",
        "import keras\n",
        "model=tf.keras.models.load_model(\"/content/drive/My Drive/earlyStopping - Copy.h5\")"
      ],
      "metadata": {
        "id": "l-XvJSQE1JEv"
      },
      "execution_count": 5,
      "outputs": []
    },
    {
      "cell_type": "code",
      "source": [
        "import cv2\n",
        "import numpy as np\n",
        "import tensorflow as tf\n",
        "y = ['100',  '100', '10',  '10',  '200',  '200',  '20', '20',  '50',  '50',  '5', '5']\n",
        "#import model\n",
        "model=tf.keras.models.load_model(\"/content/drive/My Drive/earlyStopping - Copy.h5\",compile=False)\n",
        "\n",
        "def Curr_Pred(path):\n",
        "    img=cv2.imread(path)\n",
        "    dim=(224,224)\n",
        "    img = cv2.resize(img, dim, interpolation = cv2.INTER_AREA)\n",
        "    img = np.expand_dims(img, axis=0)\n",
        "    img = img / 255\n",
        "    pred_probab = model.predict(img)[0]\n",
        "\n",
        "    if max(pred_probab) < 0.45:\n",
        "        print(\"Please take another picture\")\n",
        "    else:    \n",
        "        pred_class = list(pred_probab).index(max(pred_probab))\n",
        "        return y[list(pred_probab).index(max(pred_probab))]\n",
        "\n",
        "\n",
        "#predection\n",
        "predec = Curr_Pred(\"/content/Egyptian_Currency/valid/10B/2.jpg\")        \n",
        "     "
      ],
      "metadata": {
        "colab": {
          "base_uri": "https://localhost:8080/"
        },
        "id": "sHKGY6VP71LS",
        "outputId": "22f219b8-21b5-4040-dcf3-a449c6382a63"
      },
      "execution_count": 20,
      "outputs": [
        {
          "output_type": "stream",
          "name": "stdout",
          "text": [
            "1/1 [==============================] - 1s 1s/step\n"
          ]
        }
      ]
    },
    {
      "cell_type": "code",
      "source": [
        "Curr_Pred(\"/content/content/msg87991683-7519.jpg\")\n",
        "     "
      ],
      "metadata": {
        "colab": {
          "base_uri": "https://localhost:8080/",
          "height": 55
        },
        "id": "mjTKzdFZGhDp",
        "outputId": "ea393dd9-4ba8-4d87-9454-96cfcc939f7d"
      },
      "execution_count": 23,
      "outputs": [
        {
          "output_type": "stream",
          "name": "stdout",
          "text": [
            "1/1 [==============================] - 0s 60ms/step\n"
          ]
        },
        {
          "output_type": "execute_result",
          "data": {
            "text/plain": [
              "'20'"
            ],
            "application/vnd.google.colaboratory.intrinsic+json": {
              "type": "string"
            }
          },
          "metadata": {},
          "execution_count": 23
        }
      ]
    },
    {
      "cell_type": "code",
      "source": [],
      "metadata": {
        "id": "yG-L5X4JJ192"
      },
      "execution_count": null,
      "outputs": []
    }
  ]
}